{
  "nbformat": 4,
  "nbformat_minor": 0,
  "metadata": {
    "colab": {
      "name": "GColabFirst.ipynb",
      "provenance": [],
      "authorship_tag": "ABX9TyOuuv6J8UZ3oyAhLZgsqp85",
      "include_colab_link": true
    },
    "kernelspec": {
      "name": "python3",
      "display_name": "Python 3"
    },
    "language_info": {
      "name": "python"
    }
  },
  "cells": [
    {
      "cell_type": "markdown",
      "metadata": {
        "id": "view-in-github",
        "colab_type": "text"
      },
      "source": [
        "<a href=\"https://colab.research.google.com/github/smf-9000/Hello-Google-Colab/blob/main/GColabFirst.ipynb\" target=\"_parent\"><img src=\"https://colab.research.google.com/assets/colab-badge.svg\" alt=\"Open In Colab\"/></a>"
      ]
    },
    {
      "cell_type": "code",
      "metadata": {
        "colab": {
          "base_uri": "https://localhost:8080/"
        },
        "id": "xgB2AvF6X4HI",
        "outputId": "34177616-dae3-455f-e5fc-40a95dc80151"
      },
      "source": [
        "print('Hello \"Google Colab\"')"
      ],
      "execution_count": 3,
      "outputs": [
        {
          "output_type": "stream",
          "text": [
            "Hello \"Google Colab\"\n"
          ],
          "name": "stdout"
        }
      ]
    },
    {
      "cell_type": "code",
      "metadata": {
        "colab": {
          "base_uri": "https://localhost:8080/"
        },
        "id": "QS_IK9EQaBhO",
        "outputId": "1201e76f-edf7-4237-ab05-b2cf47a1958b"
      },
      "source": [
        "for i in range(0, 10):\n",
        "  print(str(i) + '_')"
      ],
      "execution_count": 5,
      "outputs": [
        {
          "output_type": "stream",
          "text": [
            "0_\n",
            "1_\n",
            "2_\n",
            "3_\n",
            "4_\n",
            "5_\n",
            "6_\n",
            "7_\n",
            "8_\n",
            "9_\n"
          ],
          "name": "stdout"
        }
      ]
    }
  ]
}